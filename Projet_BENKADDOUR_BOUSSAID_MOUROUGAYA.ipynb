{
 "cells": [
  {
   "cell_type": "markdown",
   "id": "cc4c117f",
   "metadata": {},
   "source": [
    "<center>\n",
    "    <img src=\"https://upload.wikimedia.org/wikipedia/commons/6/6f/Dauphine_logo_2019_-_Bleu.png\" style=\"width: 600px;\"/> \n",
    "</center>  "
   ]
  },
  {
   "cell_type": "markdown",
   "id": "c6f9dbcf",
   "metadata": {},
   "source": [
    "<div align=\"center\"><span style=\"font-family:Arial Black;font-size:25px;color:darkblue\">Gestion des risques - M1 Economie et Finance </span></div>"
   ]
  },
  {
   "cell_type": "markdown",
   "id": "8f9747c9",
   "metadata": {},
   "source": [
    "<div align=\"center\"><span style=\"font-family:Arial Black;font-size:20px;color:darkblue\">Projet final 2022 - 2023</span></div>"
   ]
  },
  {
   "cell_type": "markdown",
   "id": "504b4f79",
   "metadata": {},
   "source": [
    "<div align=\"center\"><span style=\"font-family:Arial Black;font-size:14px;color:darkblue\">Par Benkaddour Joudy, BOUSSAID Nassim et MOUROUGAYA Kartty sous la direction de M. Kayo de Kayo</span></div>"
   ]
  },
  {
   "cell_type": "markdown",
   "id": "4b1a34d8",
   "metadata": {},
   "source": [
    "# Partie C - Application à une position short sur un call européen"
   ]
  },
  {
   "cell_type": "markdown",
   "id": "143bbfcb",
   "metadata": {},
   "source": [
    "<u>**1. VaR théorique :**</u>"
   ]
  },
  {
   "cell_type": "markdown",
   "id": "d1e1074e",
   "metadata": {},
   "source": [
    "$L$ représente la variation du prix d'une option entre le temps $t$ et le temps $t+δt$. En utilisant la formule $L = C_{t+δt} − C_{t}$, nous pouvons exprimer cette variation comme la différence entre le prix de l'option en $t+δt$ et le prix de l'option en $t$. Etant donné que $δt>0$, $C_{t+δt}$ est le prix d'une option pour une échéance plus tardive que $C_{t}$. Or, nous savons que le payoff d'un call est $Max(S_{t}-K;0)$ donc plus $S_{t+δt}$ est grand et plus la différence $C_{t+δt} − C_{t}$ sera grande et par conséquent $L$ sera grand. Ainsi on peut en déduire que $L$ est une fonction croissante de $S_{t+δt}$."
   ]
  },
  {
   "cell_type": "code",
   "execution_count": 1,
   "id": "98c719fe",
   "metadata": {},
   "outputs": [],
   "source": [
    "from math import log, exp, sqrt\n",
    "from scipy.stats import norm\n",
    "import numpy as np"
   ]
  },
  {
   "cell_type": "code",
   "execution_count": 2,
   "id": "c1375f0d",
   "metadata": {},
   "outputs": [],
   "source": [
    "# Initialisation des variables\n",
    "S = 917.8\n",
    "K = 925\n",
    "T = 51\n",
    "delta_T = 14\n",
    "r = 0.000045205\n",
    "vol = 0.015\n",
    "S_δt = S*exp((r-vol**2/2)*delta_T + vol*sqrt(delta_T)* norm.ppf(0.99))"
   ]
  },
  {
   "cell_type": "code",
   "execution_count": 3,
   "id": "ed3b42aa",
   "metadata": {},
   "outputs": [],
   "source": [
    "# Fonction calculant d1\n",
    "def d1(S,K,r,vol,T):\n",
    "    vol_T = vol*sqrt(T)\n",
    "    d1 = (log(S/K)+(r+vol**2/2)*T) / vol_T\n",
    "    return d1"
   ]
  },
  {
   "cell_type": "code",
   "execution_count": 4,
   "id": "96696135",
   "metadata": {},
   "outputs": [],
   "source": [
    "# Fonction calculant d2\n",
    "def d2(S,K,r,vol,T):\n",
    "    vol_T = vol*sqrt(T)\n",
    "    d2 = d1(S,K,r,vol,T) - vol_T\n",
    "    return d2"
   ]
  },
  {
   "cell_type": "code",
   "execution_count": 5,
   "id": "acf1f76e",
   "metadata": {},
   "outputs": [],
   "source": [
    "# Classe calculant les greeks du call avec des formules fermées\n",
    "class call:\n",
    "    def __init__(self,S,K,r,vol,T):\n",
    "        self.S = S\n",
    "        self.K = K\n",
    "        self.r = r\n",
    "        self.vol = vol\n",
    "        self.vol_T = vol*sqrt(T)\n",
    "        self.T = T\n",
    "        self.d1 = d1(S,K,r,vol,T)\n",
    "        self.d2 = d2(S,K,r,vol,T)\n",
    "    \n",
    "    def price(self):\n",
    "        price = self.S*norm.cdf(self.d1) - self.K*exp(-self.r*(self.T))*norm.cdf(self.d2)\n",
    "        return price\n",
    "    \n",
    "    def delta(self):\n",
    "        delta = norm.cdf(self.d1)\n",
    "        return delta\n",
    "    \n",
    "    def gamma(self):\n",
    "        gamma = norm.pdf(self.d1)/(self.S*self.vol_T)\n",
    "        return gamma\n",
    "    \n",
    "    def speed(self):\n",
    "        speed = -norm.pdf(self.d1)/(self.S**2*(self.vol_T))*((self.d1/self.vol_T)+1)\n",
    "        return speed"
   ]
  },
  {
   "cell_type": "code",
   "execution_count": 6,
   "id": "f1832371",
   "metadata": {},
   "outputs": [],
   "source": [
    "# Classe calculant les greeks du put avec des formules fermées\n",
    "class put:\n",
    "    def __init__(self,S,K,r,vol,T):\n",
    "        self.S = S\n",
    "        self.K = K\n",
    "        self.r = r\n",
    "        self.vol = vol\n",
    "        self.vol_T = vol*sqrt(T)\n",
    "        self.T = T\n",
    "        self.d1 = d1(S,K,r,vol,T)\n",
    "        self.d2 = d2(S,K,r,vol,T)\n",
    "    \n",
    "    def price(self):\n",
    "        price = self.K*exp(-self.r*(self.T))*norm.cdf(-self.d2) - self.S*norm.cdf(-self.d1)\n",
    "        return price\n",
    "    \n",
    "    def delta(self):\n",
    "        delta = -norm.cdf(-self.d1)\n",
    "        return delta\n",
    "    \n",
    "    def gamma(self):\n",
    "        gamma = norm.pdf(self.d1)/(self.S*self.vol_T)\n",
    "        return gamma\n",
    "    \n",
    "    def speed(self):\n",
    "        speed = -norm.pdf(self.d1)/(self.S**2*(self.vol_T))*((self.d1/self.vol_T)+1)\n",
    "        return speed"
   ]
  },
  {
   "cell_type": "code",
   "execution_count": 7,
   "id": "6e04b122",
   "metadata": {
    "scrolled": false
   },
   "outputs": [
    {
     "name": "stdout",
     "output_type": "stream",
     "text": [
      "La VaR théorique est : 88.17667789647226\n"
     ]
    }
   ],
   "source": [
    "# Calcul de la VaR Théorique\n",
    "VaR_Theorique = call(S_δt,K,r,vol,T-delta_T).price() - call(S,K,r,vol,T).price()\n",
    "print(f\"La VaR théorique est : {VaR_Theorique}\")"
   ]
  },
  {
   "cell_type": "code",
   "execution_count": 8,
   "id": "be0479bc",
   "metadata": {},
   "outputs": [
    {
     "name": "stdout",
     "output_type": "stream",
     "text": [
      "Le prix du call en T est : 36.828927782947744\n",
      "Le prix du put en T est : 41.89883826418736\n",
      "Le prix du call en T-delta_t est : 125.00560567942\n",
      "Le prix du put en T-delta_t est : 3.6361825154471603\n",
      "\n",
      "Le delta du call en T est : 0.5008517977401307\n",
      "Le delta du put en T est : -0.49914820225986933\n",
      "Le delta du call en T-delta_t est : 0.9190900547789507\n",
      "Le delta du put en T-delta_t est : -0.08090994522104927\n",
      "\n",
      "Le gamma du call en T est : 0.0040577442912202175\n",
      "Le gamma du put en T est : 0.0040577442912202175\n",
      "Le gamma du call en T-delta_t est : 0.0015728531591393791\n",
      "Le gamma du put en T-delta_t est : 0.0015728531591393791\n",
      "\n",
      "Le speed du call en T est : -4.509286512781038e-06\n",
      "Le speed du put en T est : -4.509286512781038e-06\n",
      "Le speed du call en T-delta_t est : -2.458685710137681e-05\n",
      "Le speed du put en T-delta_t est : -2.458685710137681e-05\n",
      "\n"
     ]
    }
   ],
   "source": [
    "# Affichage des résultats des greeks pour le call et le put\n",
    "print(f\"Le prix du call en T est : {call(S,K,r,vol,T).price()}\")\n",
    "print(f\"Le prix du put en T est : {put(S,K,r,vol,T).price()}\")\n",
    "print(f\"Le prix du call en T-delta_t est : {call(S_δt,K,r,vol,T-delta_T).price()}\")\n",
    "print(f\"Le prix du put en T-delta_t est : {put(S_δt,K,r,vol,T-delta_T).price()}\\n\")\n",
    "\n",
    "print(f\"Le delta du call en T est : {call(S,K,r,vol,T).delta()}\")\n",
    "print(f\"Le delta du put en T est : {put(S,K,r,vol,T).delta()}\")\n",
    "print(f\"Le delta du call en T-delta_t est : {call(S_δt,K,r,vol,T-delta_T).delta()}\")\n",
    "print(f\"Le delta du put en T-delta_t est : {put(S_δt,K,r,vol,T-delta_T).delta()}\\n\")\n",
    "\n",
    "print(f\"Le gamma du call en T est : {call(S,K,r,vol,T).gamma()}\")\n",
    "print(f\"Le gamma du put en T est : {put(S,K,r,vol,T).gamma()}\")\n",
    "print(f\"Le gamma du call en T-delta_t est : {call(S_δt,K,r,vol,T-delta_T).gamma()}\")\n",
    "print(f\"Le gamma du put en T-delta_t est : {put(S_δt,K,r,vol,T-delta_T).gamma()}\\n\")\n",
    "\n",
    "print(f\"Le speed du call en T est : {call(S,K,r,vol,T).speed()}\")\n",
    "print(f\"Le speed du put en T est : {put(S,K,r,vol,T).speed()}\")\n",
    "print(f\"Le speed du call en T-delta_t est : {call(S_δt,K,r,vol,T-delta_T).speed()}\")\n",
    "print(f\"Le speed du put en T-delta_t est : {put(S_δt,K,r,vol,T-delta_T).speed()}\\n\")"
   ]
  },
  {
   "cell_type": "markdown",
   "id": "91a8e6d5",
   "metadata": {},
   "source": [
    "<u>**2. VaR Monte-Carlo :**</u>"
   ]
  },
  {
   "cell_type": "code",
   "execution_count": 9,
   "id": "3a454e58",
   "metadata": {},
   "outputs": [],
   "source": [
    "# Fonction calculant la VaR Monte-Carlo pour le call\n",
    "def Monte_Carlo_Call(S,K,r,vol,T,Nb_simulations):\n",
    "    S_price = S * np.exp((r - vol**2/2)*T + vol*np.sqrt(T)*norm.rvs(size = Nb_simulations))\n",
    "    Call_price = np.exp(-r*T) *np.maximum(S_price-K,0)\n",
    "    Call_price_moyen = np.mean(Call_price)\n",
    "    return Call_price_moyen"
   ]
  },
  {
   "cell_type": "code",
   "execution_count": 10,
   "id": "e71e5f0a",
   "metadata": {},
   "outputs": [],
   "source": [
    "# Fonction calculant la VaR Monte-Carlo pour le put\n",
    "def Monte_Carlo_Put(S,K,r,vol,T,Nb_simulations):\n",
    "    S_price = S * np.exp((r - vol**2/2)*T + vol*np.sqrt(T)*norm.rvs(size = Nb_simulations))\n",
    "    Put_price = np.exp(-r*T) *np.maximum(K-S_price,0)\n",
    "    Put_price_moyen = np.mean(Put_price)\n",
    "    return Put_price_moyen"
   ]
  },
  {
   "cell_type": "code",
   "execution_count": 11,
   "id": "de1e0911",
   "metadata": {},
   "outputs": [],
   "source": [
    "# Enregistrement du nombre de simulations\n",
    "Nb_simulations = 10000000"
   ]
  },
  {
   "cell_type": "code",
   "execution_count": 12,
   "id": "7cbf5ff4",
   "metadata": {},
   "outputs": [
    {
     "name": "stdout",
     "output_type": "stream",
     "text": [
      "La VaR Monte-Carlo est : 88.17768663618483\n",
      "L'erreur relative à la VaR théorique est : 0.0011439983186470014%\n"
     ]
    }
   ],
   "source": [
    "# Calcul de la VaR Monte-Carlo\n",
    "VaR_Monte_Carlo = Monte_Carlo_Call(S_δt,K,r,vol,T-delta_T,Nb_simulations) - Monte_Carlo_Call(S,K,r,vol,T,Nb_simulations)\n",
    "print(f\"La VaR Monte-Carlo est : {VaR_Monte_Carlo}\")\n",
    "Erreur_Relative = abs((VaR_Monte_Carlo - VaR_Theorique)/VaR_Theorique)*100\n",
    "print(f\"L'erreur relative à la VaR théorique est : {Erreur_Relative}%\")"
   ]
  },
  {
   "cell_type": "markdown",
   "id": "cacb3752",
   "metadata": {},
   "source": [
    "<u>**3. VaR Cornish-Fischer :**</u>"
   ]
  },
  {
   "cell_type": "markdown",
   "id": "000339f3",
   "metadata": {},
   "source": [
    "<center>\n",
    "    <img src=\"https://image.noelshack.com/fichiers/2023/10/4/1678317331-screenshot-59.png\" style=\"width: 600px;\"/> \n",
    "    <img src=\"https://www.zupimages.net/up/23/10/bh79.png\" style=\"width: 600px;\"/> \n",
    "</center>"
   ]
  },
  {
   "cell_type": "code",
   "execution_count": 13,
   "id": "50967548",
   "metadata": {},
   "outputs": [],
   "source": [
    "# Fonction calculant la VaR Cornish-Fischer\n",
    "def Cornish_Fischer_VaR(S,K,r,vol,T,option = \"call\",position=\"short\",gamma_factor=1, speed_factor=1,seuil=0.01):\n",
    "    # Vérification de la position\n",
    "    if position == \"short\":\n",
    "        facteur = -1\n",
    "    elif position == \"long\":\n",
    "        facteur = 1\n",
    "    # Vérification de la nature de l'option\n",
    "    if option == \"call\":\n",
    "        Delta = facteur * call(S,K,r,vol,T).delta()\n",
    "        Gamma = facteur * gamma_factor * call(S,K,r,vol,T).gamma()\n",
    "        Speed = facteur * speed_factor * call(S,K,r,vol,T).speed()\n",
    "    elif option == \"put\":\n",
    "        Delta = facteur * put(S,K,r,vol,T).delta()\n",
    "        Gamma = facteur * gamma_factor * put(S,K,r,vol,T).gamma()\n",
    "        Speed = facteur * speed_factor * put(S,K,r,vol,T).speed()\n",
    "\n",
    "    a = 1/6*Speed*S**3\n",
    "    b = 1/2*Gamma*S**2\n",
    "    c = Delta*S\n",
    "    vol_T = vol * sqrt(delta_T)\n",
    "    \n",
    "    # Calcul des moments\n",
    "    E_δP = b*vol_T**2\n",
    "    E_δP_2 = a**2*15*vol_T**6 + (b**2+2*a*c)*3*vol_T**4 + c**2*1*vol_T**2\n",
    "    E_δP_3 = 315*b*a**2*vol_T**8 + 15*(b**3 + 6*a*b*c)*vol_T**6 + 9*b*c**2*vol_T**4\n",
    "    E_δP_4 = 10395*a**4*vol_T**12+945*(6*a**2*b**2+4*c*a**3)*vol_T**10+105*(b**4+12*a*c*b**2+6*a**2*c**2)*vol_T**8+15*(6*b**2*c**2+4*a*c**3)*vol_T**6+3*c**4*vol_T**4\n",
    "    \n",
    "    σ_δP_2 = E_δP_2-E_δP**2\n",
    "    σ_δP = sqrt(σ_δP_2)\n",
    "    \n",
    "    S_δP = (E_δP_3-3*E_δP_2*E_δP+2*E_δP**3)/(σ_δP**3)\n",
    "    K_δP = (E_δP_4-4*E_δP_3*E_δP+6*E_δP_2*E_δP**2-3*E_δP**4)/(σ_δP**4) - 3\n",
    "    \n",
    "    dic_z_alpha = {0.05: 1.64, 0.025: 1.96, 0.01: 2.33, 0.005: 2.58, 0.001:3.09}\n",
    "    z_alpha = dic_z_alpha[seuil]\n",
    "\n",
    "    E_L = -E_δP\n",
    "    σ_L = σ_δP\n",
    "    S_L = -S_δP\n",
    "    K_L = K_δP\n",
    "    \n",
    "    # Test de Diddier-Maillard\n",
    "    Condition_1 = abs(S_L)<=6*(sqrt(2)-1) or abs(S_L)>=6*(sqrt(2)+1)\n",
    "    if Condition_1:\n",
    "        s = S_L/6\n",
    "        k = K_L/24\n",
    "        k_1 = (1+11*s**2-sqrt(s**4-6*s**2+1))/6\n",
    "        k_2 = (1+11*s**2+sqrt(s**4-6*s**2+1))/6\n",
    "        Condition_2 = k_1 <= k <= k_2\n",
    "        if Condition_2:\n",
    "            z_tilde = z_alpha + (z_alpha**2-1)*S_L/6 + (z_alpha**3-3*z_alpha)*K_L/24 - (2*z_alpha**3-5*z_alpha)*S_L**2/36\n",
    "            print(\"Les conditions de validité de Diddier Maillard sont vérifiées\")\n",
    "        else:\n",
    "            z_tilde = z_alpha + (z_alpha**2-1)*S_L/6\n",
    "            print(\"Les conditions de validité de Diddier Maillard ne sont pas vérifiées\")\n",
    "    else:\n",
    "        z_tilde = z_alpha + (z_alpha**2-1)*S_L/6\n",
    "        print(\"Les conditions de validité de Diddier Maillard ne sont pas vérifiées\")\n",
    "    VaR_Cornish_Fischer = E_L+σ_L*z_tilde\n",
    "    return VaR_Cornish_Fischer"
   ]
  },
  {
   "cell_type": "code",
   "execution_count": 14,
   "id": "552943bf",
   "metadata": {},
   "outputs": [
    {
     "name": "stdout",
     "output_type": "stream",
     "text": [
      "Les conditions de validité de Diddier Maillard sont vérifiées\n",
      "La VaR Cornish-Fischer avec Delta uniquement est : 60.11301187873832\n",
      "L'erreur relative à la VaR théorique est : 31.8266311310609%\n",
      "\n",
      "Les conditions de validité de Diddier Maillard ne sont pas vérifiées\n",
      "La VaR Cornish-Fischer avec Delta-Gamma est : 91.26536476335828\n",
      "L'erreur relative à la VaR théorique est : 3.5028387784266855%\n",
      "\n",
      "Les conditions de validité de Diddier Maillard ne sont pas vérifiées\n",
      "La VaR Cornish-Fischer avec Delta-Gamma-Speed est : 90.04068533545545\n",
      "L'erreur relative à la VaR théorique est : 2.1139460948752395%\n",
      "\n"
     ]
    }
   ],
   "source": [
    "# Calcul de la VaR Cornish Fischer\n",
    "VaR_Cornish_Fischer = Cornish_Fischer_VaR(S,K,r,vol,T,position=\"short\",gamma_factor=0, speed_factor=0,seuil=0.01)\n",
    "Erreur_Relative = abs((VaR_Cornish_Fischer - VaR_Theorique)/VaR_Theorique)*100\n",
    "print(f\"La VaR Cornish-Fischer avec Delta uniquement est : {VaR_Cornish_Fischer}\")\n",
    "print(f\"L'erreur relative à la VaR théorique est : {Erreur_Relative}%\\n\")\n",
    "\n",
    "VaR_Cornish_Fischer = Cornish_Fischer_VaR(S,K,r,vol,T,position=\"short\",gamma_factor=1, speed_factor=0,seuil=0.01)\n",
    "Erreur_Relative = abs((VaR_Cornish_Fischer - VaR_Theorique)/VaR_Theorique)*100\n",
    "print(f\"La VaR Cornish-Fischer avec Delta-Gamma est : {VaR_Cornish_Fischer}\")\n",
    "print(f\"L'erreur relative à la VaR théorique est : {Erreur_Relative}%\\n\")\n",
    "\n",
    "VaR_Cornish_Fischer = Cornish_Fischer_VaR(S,K,r,vol,T,position=\"short\",gamma_factor=1, speed_factor=1,seuil=0.01)\n",
    "Erreur_Relative = abs((VaR_Cornish_Fischer - VaR_Theorique)/VaR_Theorique)*100\n",
    "print(f\"La VaR Cornish-Fischer avec Delta-Gamma-Speed est : {VaR_Cornish_Fischer}\")\n",
    "print(f\"L'erreur relative à la VaR théorique est : {Erreur_Relative}%\\n\")"
   ]
  },
  {
   "cell_type": "markdown",
   "id": "101ed270",
   "metadata": {},
   "source": [
    "# Partie D - Application à une position short sur un straddle"
   ]
  },
  {
   "cell_type": "code",
   "execution_count": 15,
   "id": "c49314a6",
   "metadata": {},
   "outputs": [],
   "source": [
    "# Initialisation des variables\n",
    "S = 100\n",
    "K = 100\n",
    "T = 28\n",
    "delta_T = 14\n",
    "r = 0.02/252\n",
    "vol = 0.015"
   ]
  },
  {
   "cell_type": "code",
   "execution_count": 16,
   "id": "4bb787a9",
   "metadata": {},
   "outputs": [],
   "source": [
    "# Initialisation du portefeuille\n",
    "Put_T = put(S,K,r,vol,T).price()\n",
    "Call_T = call(S,K,r,vol,T).price()\n",
    "Portfolio_T = -(Call_T + Put_T)"
   ]
  },
  {
   "cell_type": "code",
   "execution_count": 17,
   "id": "57ffecd6",
   "metadata": {
    "scrolled": true
   },
   "outputs": [
    {
     "name": "stdout",
     "output_type": "stream",
     "text": [
      "La VaR Monte-Carlo est : 8.33027096094263\n"
     ]
    }
   ],
   "source": [
    "# Calcul de la VaR Monte-Carlo\n",
    "Nb_simulations = 100000\n",
    "S_δt = S * np.exp((r - vol**2/2)*(T-delta_T) + vol*np.sqrt(T-delta_T)*norm.rvs(size = Nb_simulations))\n",
    "Portfolio_δt = np.empty(Nb_simulations, dtype=float)\n",
    "for i in range(1,Nb_simulations):\n",
    "    Portfolio_δt[i] = -(call(S_δt[i],K,r,vol,T-delta_T).price() + put(S_δt[i],K,r,vol,T-delta_T).price())\n",
    "L = Portfolio_T - Portfolio_δt\n",
    "VaR_Monte_Carlo = (np.quantile(L,0.99))\n",
    "print(f\"La VaR Monte-Carlo est : {VaR_Monte_Carlo}\")"
   ]
  },
  {
   "cell_type": "code",
   "execution_count": 18,
   "id": "dca62209",
   "metadata": {},
   "outputs": [],
   "source": [
    "# Fonction calculant la VaR Cornish-Fischer\n",
    "def Cornish_Fischer_VaR_Straddle(S,K,r,vol,T,position=\"short\", gamma_factor=1, speed_factor=1, seuil=0.01):\n",
    "    # Vérification de la position\n",
    "    if position == \"short\":\n",
    "        facteur = -1\n",
    "    elif position == \"long\":\n",
    "        facteur = 1\n",
    "    \n",
    "    Delta = facteur * (call(S,K,r,vol,T).delta() + put(S,K,r,vol,T).delta())\n",
    "    Gamma = facteur * gamma_factor * (call(S,K,r,vol,T).gamma() + put(S,K,r,vol,T).gamma())\n",
    "    Speed = facteur * speed_factor * (call(S,K,r,vol,T).speed() + put(S,K,r,vol,T).speed())\n",
    "\n",
    "    a = 1/6*Speed*S**3\n",
    "    b = 1/2*Gamma*S**2\n",
    "    c = Delta*S\n",
    "    vol_T = vol * sqrt(delta_T)\n",
    "    # Calcul des moments\n",
    "    E_δP = b*vol_T**2\n",
    "    E_δP_2 = a**2*15*vol_T**6 + (b**2+2*a*c)*3*vol_T**4 + c**2*1*vol_T**2\n",
    "    E_δP_3 = 315*b*a**2*vol_T**8 + 15*(b**3 + 6*a*b*c)*vol_T**6 + 9*b*c**2*vol_T**4\n",
    "    E_δP_4 = 10395*a**4*vol_T**12+945*(6*a**2*b**2+4*c*a**3)*vol_T**10+105*(b**4+12*a*c*b**2+6*a**2*c**2)*vol_T**8+15*(6*b**2*c**2+4*a*c**3)*vol_T**6+3*c**4*vol_T**4\n",
    "    \n",
    "    σ_δP_2 = E_δP_2-E_δP**2\n",
    "    σ_δP = sqrt(σ_δP_2)\n",
    "    \n",
    "    S_δP = (E_δP_3-3*E_δP_2*E_δP+2*E_δP**3)/(σ_δP**3)\n",
    "    K_δP = (E_δP_4-4*E_δP_3*E_δP+6*E_δP_2*E_δP**2-3*E_δP**4)/(σ_δP**4) - 3\n",
    "    \n",
    "    dic_z_alpha = {0.05: 1.64, 0.025: 1.96, 0.01: 2.33, 0.005: 2.58, 0.001:3.09}\n",
    "    z_alpha = dic_z_alpha[seuil]\n",
    "\n",
    "    E_L = -E_δP\n",
    "    σ_L = σ_δP\n",
    "    S_L = -S_δP\n",
    "    K_L = K_δP\n",
    "    # Test de Diddier-Maillard\n",
    "    Condition_1 = abs(S_L)<=6*(sqrt(2)-1) or abs(S_L)>=6*(sqrt(2)+1)\n",
    "    if Condition_1:\n",
    "        s = S_L/6\n",
    "        k = K_L/24\n",
    "        k_1 = (1+11*s**2-sqrt(s**4-6*s**2+1))/6\n",
    "        k_2 = (1+11*s**2+sqrt(s**4-6*s**2+1))/6\n",
    "        Condition_2 = k_1 <= k <= k_2\n",
    "        if Condition_2:\n",
    "            z_tilde = z_alpha + (z_alpha**2-1)*S_L/6 + (z_alpha**3-3*z_alpha)*K_L/24 - (2*z_alpha**3-5*z_alpha)*S_L**2/36\n",
    "            print(\"Les conditions de validité de Diddier Maillard sont vérifiées\")\n",
    "        else:\n",
    "            z_tilde = z_alpha + (z_alpha**2-1)*S_L/6\n",
    "            print(\"Les conditions de validité de Diddier Maillard ne sont pas vérifiées\")\n",
    "    else:\n",
    "        z_tilde = z_alpha + (z_alpha**2-1)*S_L/6\n",
    "        print(\"Les conditions de validité de Diddier Maillard ne sont pas vérifiées\")\n",
    "    VaR_Cornish_Fischer = E_L+σ_L*z_tilde\n",
    "    return VaR_Cornish_Fischer"
   ]
  },
  {
   "cell_type": "code",
   "execution_count": 19,
   "id": "644817c1",
   "metadata": {},
   "outputs": [
    {
     "name": "stdout",
     "output_type": "stream",
     "text": [
      "Les conditions de validité de Diddier Maillard sont vérifiées\n",
      "La VaR Cornish-Fischer avec Delta uniquement est : 0.7056729424758763\n",
      "\n",
      "Les conditions de validité de Diddier Maillard ne sont pas vérifiées\n",
      "La VaR Cornish-Fischer avec Delta-Gamma est : 11.53842476597822\n",
      "\n",
      "Les conditions de validité de Diddier Maillard ne sont pas vérifiées\n",
      "La VaR Cornish-Fischer avec Delta-Gamma-Speed est : 11.472031339338645\n",
      "\n"
     ]
    }
   ],
   "source": [
    "# Calcul de la VaR Cornish Fischer\n",
    "VaR_Cornish_Fischer = Cornish_Fischer_VaR_Straddle(S,K,r,vol,T,position=\"short\",gamma_factor=0, speed_factor=0,seuil=0.01)\n",
    "print(f\"La VaR Cornish-Fischer avec Delta uniquement est : {VaR_Cornish_Fischer}\\n\")\n",
    "\n",
    "VaR_Cornish_Fischer = Cornish_Fischer_VaR_Straddle(S,K,r,vol,T,position=\"short\",gamma_factor=1, speed_factor=0,seuil=0.01)\n",
    "print(f\"La VaR Cornish-Fischer avec Delta-Gamma est : {VaR_Cornish_Fischer}\\n\")\n",
    "\n",
    "VaR_Cornish_Fischer = Cornish_Fischer_VaR_Straddle(S,K,r,vol,T,position=\"short\",gamma_factor=1, speed_factor=1,seuil=0.01)\n",
    "print(f\"La VaR Cornish-Fischer avec Delta-Gamma-Speed est : {VaR_Cornish_Fischer}\\n\")"
   ]
  },
  {
   "cell_type": "markdown",
   "id": "d32fc322",
   "metadata": {},
   "source": [
    "# Partie E - Application à un portefeuille quelconque d'options"
   ]
  },
  {
   "cell_type": "code",
   "execution_count": 20,
   "id": "31df0c11",
   "metadata": {},
   "outputs": [],
   "source": [
    "# Initialisation des variables\n",
    "S = 100\n",
    "K_Put = 97\n",
    "K_Call_1 = 97\n",
    "K_Call_2 = 105\n",
    "Q_Put = -1\n",
    "Q_Call_1 = -1.5\n",
    "Q_Call_2 = 2.5\n",
    "T = 28\n",
    "delta_T = 14\n",
    "r = 0.02/252\n",
    "vol = 0.015"
   ]
  },
  {
   "cell_type": "code",
   "execution_count": 21,
   "id": "d723bded",
   "metadata": {},
   "outputs": [],
   "source": [
    "# Initialisation du portefeuille\n",
    "Put_T = put(S,K_Put,r,vol,T).price()\n",
    "Call_1_T = call(S,K_Call_1,r,vol,T).price()\n",
    "Call_2_T = call(S,K_Call_2,r,vol,T).price()\n",
    "Portfolio_T = (Q_Put*Put_T + Q_Call_1*Call_1_T + Q_Call_2*Call_2_T)"
   ]
  },
  {
   "cell_type": "code",
   "execution_count": 22,
   "id": "3c2ed5d2",
   "metadata": {},
   "outputs": [
    {
     "name": "stdout",
     "output_type": "stream",
     "text": [
      "La VaR Monte-Carlo est : 3.678445855132349\n"
     ]
    }
   ],
   "source": [
    "# Calcul de la VaR Monte-Carlo\n",
    "Nb_simulations = 100000\n",
    "S_δt = S * np.exp((r - vol**2/2)*(T-delta_T) + vol*np.sqrt(T-delta_T)*norm.rvs(size = Nb_simulations))\n",
    "Portfolio_δt = np.empty(Nb_simulations, dtype=float)\n",
    "for i in range(1,Nb_simulations):\n",
    "    Portfolio_δt[i] = (Q_Put*put(S_δt[i],K_Put,r,vol,T-delta_T).price() + Q_Call_1*call(S_δt[i],K_Call_1,r,vol,T-delta_T).price() + Q_Call_2*call(S_δt[i],K_Call_2,r,vol,T-delta_T).price())\n",
    "L = Portfolio_T - Portfolio_δt\n",
    "VaR_Monte_Carlo = (np.quantile(L,0.99))\n",
    "print(f\"La VaR Monte-Carlo est : {VaR_Monte_Carlo}\")"
   ]
  },
  {
   "cell_type": "code",
   "execution_count": 23,
   "id": "7e124aad",
   "metadata": {},
   "outputs": [],
   "source": [
    "# Fonction calculant la VaR Cornish-Fischer\n",
    "def Cornish_Fischer_VaR_Portfolio(S,r,vol,T,gamma_factor=1, speed_factor=1, seuil=0.01):\n",
    "    # Vérification de la position\n",
    "    Delta = - put(S,K_Put,r,vol,T).delta() - 1.5*call(S,K_Call_1,r,vol,T).delta() + 2.5*call(S,K_Call_2,r,vol,T).delta()\n",
    "    Gamma = gamma_factor*(- put(S,K_Put,r,vol,T).gamma() - 1.5*call(S,K_Call_1,r,vol,T).gamma() + 2.5*call(S,K_Call_2,r,vol,T).gamma())\n",
    "    Speed = speed_factor*(- put(S,K_Put,r,vol,T).speed() - 1.5*call(S,K_Call_1,r,vol,T).speed() + 2.5*call(S,K_Call_2,r,vol,T).speed())\n",
    "\n",
    "    a = 1/6*Speed*S**3\n",
    "    b = 1/2*Gamma*S**2\n",
    "    c = Delta*S\n",
    "    vol_T = vol * sqrt(delta_T)\n",
    "    # Calcul des moments\n",
    "    E_δP = b*vol_T**2\n",
    "    E_δP_2 = a**2*15*vol_T**6 + (b**2+2*a*c)*3*vol_T**4 + c**2*1*vol_T**2\n",
    "    E_δP_3 = 315*b*a**2*vol_T**8 + 15*(b**3 + 6*a*b*c)*vol_T**6 + 9*b*c**2*vol_T**4\n",
    "    E_δP_4 = 10395*a**4*vol_T**12+945*(6*a**2*b**2+4*c*a**3)*vol_T**10+105*(b**4+12*a*c*b**2+6*a**2*c**2)*vol_T**8+15*(6*b**2*c**2+4*a*c**3)*vol_T**6+3*c**4*vol_T**4\n",
    "\n",
    "    σ_δP_2 = E_δP_2-E_δP**2\n",
    "    σ_δP = sqrt(σ_δP_2)\n",
    "\n",
    "    S_δP = (E_δP_3-3*E_δP_2*E_δP+2*E_δP**3)/(σ_δP**3)\n",
    "    K_δP = (E_δP_4-4*E_δP_3*E_δP+6*E_δP_2*E_δP**2-3*E_δP**4)/(σ_δP**4) - 3\n",
    "\n",
    "    dic_z_alpha = {0.05: 1.64, 0.025: 1.96, 0.01: 2.33, 0.005: 2.58, 0.001:3.09}\n",
    "    z_alpha = dic_z_alpha[seuil]\n",
    "\n",
    "    E_L = -E_δP\n",
    "    σ_L = σ_δP\n",
    "    S_L = -S_δP\n",
    "    K_L = K_δP\n",
    "    # Test de Diddier-Maillard\n",
    "    Condition_1 = abs(S_L)<=6*(sqrt(2)-1) or abs(S_L)>=6*(sqrt(2)+1)\n",
    "    if Condition_1:\n",
    "        s = S_L/6\n",
    "        k = K_L/24\n",
    "        k_1 = (1+11*s**2-sqrt(s**4-6*s**2+1))/6\n",
    "        k_2 = (1+11*s**2+sqrt(s**4-6*s**2+1))/6\n",
    "        Condition_2 = k_1 <= k <= k_2\n",
    "        if Condition_2:\n",
    "            z_tilde = z_alpha + (z_alpha**2-1)*S_L/6 + (z_alpha**3-3*z_alpha)*K_L/24 - (2*z_alpha**3-5*z_alpha)*S_L**2/36\n",
    "            print(\"Les conditions de validité de Diddier Maillard sont vérifiées\")\n",
    "        else:\n",
    "            z_tilde = z_alpha + (z_alpha**2-1)*S_L/6\n",
    "            print(\"Les conditions de validité de Diddier Maillard ne sont pas vérifiées\")\n",
    "    else:\n",
    "        z_tilde = z_alpha + (z_alpha**2-1)*S_L/6\n",
    "        print(\"Les conditions de validité de Diddier Maillard ne sont pas vérifiées\")\n",
    "    VaR_Cornish_Fischer = E_L+σ_L*z_tilde\n",
    "    return VaR_Cornish_Fischer"
   ]
  },
  {
   "cell_type": "code",
   "execution_count": 24,
   "id": "446f726d",
   "metadata": {},
   "outputs": [
    {
     "name": "stdout",
     "output_type": "stream",
     "text": [
      "Les conditions de validité de Diddier Maillard ne sont pas vérifiées\n",
      "La VaR Cornish-Fischer avec Delta uniquement est : 0.5892170274219752\n",
      "\n",
      "Les conditions de validité de Diddier Maillard ne sont pas vérifiées\n",
      "La VaR Cornish-Fischer avec Delta-Gamma est : 1.0802064828850058\n",
      "\n",
      "Les conditions de validité de Diddier Maillard ne sont pas vérifiées\n",
      "La VaR Cornish-Fischer avec Delta-Gamma-Speed est : 5.295487463043295\n",
      "\n"
     ]
    }
   ],
   "source": [
    "# Calcul de la VaR Cornish Fischer\n",
    "VaR_Cornish_Fischer = Cornish_Fischer_VaR_Portfolio(S,r,vol,T,gamma_factor=0, speed_factor=0, seuil=0.01)\n",
    "print(f\"La VaR Cornish-Fischer avec Delta uniquement est : {VaR_Cornish_Fischer}\\n\")\n",
    "VaR_Cornish_Fischer = Cornish_Fischer_VaR_Portfolio(S,r,vol,T,gamma_factor=1, speed_factor=0, seuil=0.01)\n",
    "print(f\"La VaR Cornish-Fischer avec Delta-Gamma est : {VaR_Cornish_Fischer}\\n\")\n",
    "VaR_Cornish_Fischer = Cornish_Fischer_VaR_Portfolio(S,r,vol,T,gamma_factor=1, speed_factor=1, seuil=0.01)\n",
    "print(f\"La VaR Cornish-Fischer avec Delta-Gamma-Speed est : {VaR_Cornish_Fischer}\\n\")"
   ]
  }
 ],
 "metadata": {
  "kernelspec": {
   "display_name": "Python 3 (ipykernel)",
   "language": "python",
   "name": "python3"
  },
  "language_info": {
   "codemirror_mode": {
    "name": "ipython",
    "version": 3
   },
   "file_extension": ".py",
   "mimetype": "text/x-python",
   "name": "python",
   "nbconvert_exporter": "python",
   "pygments_lexer": "ipython3",
   "version": "3.9.13"
  }
 },
 "nbformat": 4,
 "nbformat_minor": 5
}
